{
 "cells": [
  {
   "cell_type": "markdown",
   "metadata": {},
   "source": [
    "# Causal Modelling with DoWhy and EconML"
   ]
  },
  {
   "cell_type": "markdown",
   "metadata": {},
   "source": [
    "# Imports"
   ]
  },
  {
   "cell_type": "code",
   "execution_count": 14,
   "metadata": {},
   "outputs": [],
   "source": [
    "import numpy as np\n",
    "import pandas as pd\n",
    "\n",
    "from dowhy import CausalModel, plotter\n",
    "from IPython.display import Image, display\n",
    "import matplotlib.pyplot as plt\n",
    "\n",
    "from sklearn.linear_model import LassoCV\n",
    "from sklearn.ensemble import GradientBoostingRegressor\n",
    "\n",
    "import econml\n",
    "from econml.dml import LinearDML, CausalForestDML\n",
    "from econml.cate_interpreter import SingleTreeCateInterpreter"
   ]
  },
  {
   "cell_type": "markdown",
   "metadata": {},
   "source": [
    "# Read data"
   ]
  },
  {
   "cell_type": "code",
   "execution_count": 2,
   "metadata": {},
   "outputs": [],
   "source": [
    "df = pd.read_csv('../data/causal_df.csv')"
   ]
  },
  {
   "cell_type": "code",
   "execution_count": 3,
   "metadata": {},
   "outputs": [
    {
     "data": {
      "text/html": [
       "<div>\n",
       "<style scoped>\n",
       "    .dataframe tbody tr th:only-of-type {\n",
       "        vertical-align: middle;\n",
       "    }\n",
       "\n",
       "    .dataframe tbody tr th {\n",
       "        vertical-align: top;\n",
       "    }\n",
       "\n",
       "    .dataframe thead th {\n",
       "        text-align: right;\n",
       "    }\n",
       "</style>\n",
       "<table border=\"1\" class=\"dataframe\">\n",
       "  <thead>\n",
       "    <tr style=\"text-align: right;\">\n",
       "      <th></th>\n",
       "      <th>Unnamed: 0</th>\n",
       "      <th>date</th>\n",
       "      <th>day_of_week</th>\n",
       "      <th>weather_region_cd</th>\n",
       "      <th>maximum_feels_like_temperature</th>\n",
       "      <th>rainfall</th>\n",
       "      <th>sunshine_td</th>\n",
       "      <th>avg_ice_cream_price</th>\n",
       "      <th>ice_cream_sold</th>\n",
       "      <th>cpih</th>\n",
       "      <th>month</th>\n",
       "    </tr>\n",
       "  </thead>\n",
       "  <tbody>\n",
       "    <tr>\n",
       "      <th>0</th>\n",
       "      <td>0</td>\n",
       "      <td>2022-03-27</td>\n",
       "      <td>0.0</td>\n",
       "      <td>1.0</td>\n",
       "      <td>15.4</td>\n",
       "      <td>0.2</td>\n",
       "      <td>12.1</td>\n",
       "      <td>2.704702</td>\n",
       "      <td>1498.0</td>\n",
       "      <td>6.2</td>\n",
       "      <td>3.0</td>\n",
       "    </tr>\n",
       "    <tr>\n",
       "      <th>1</th>\n",
       "      <td>1</td>\n",
       "      <td>2022-03-27</td>\n",
       "      <td>0.0</td>\n",
       "      <td>10.0</td>\n",
       "      <td>12.7</td>\n",
       "      <td>0.0</td>\n",
       "      <td>10.6</td>\n",
       "      <td>2.704702</td>\n",
       "      <td>2285.0</td>\n",
       "      <td>6.2</td>\n",
       "      <td>3.0</td>\n",
       "    </tr>\n",
       "    <tr>\n",
       "      <th>2</th>\n",
       "      <td>2</td>\n",
       "      <td>2022-03-27</td>\n",
       "      <td>0.0</td>\n",
       "      <td>11.0</td>\n",
       "      <td>15.1</td>\n",
       "      <td>0.0</td>\n",
       "      <td>10.2</td>\n",
       "      <td>2.704702</td>\n",
       "      <td>5509.0</td>\n",
       "      <td>6.2</td>\n",
       "      <td>3.0</td>\n",
       "    </tr>\n",
       "    <tr>\n",
       "      <th>3</th>\n",
       "      <td>3</td>\n",
       "      <td>2022-03-27</td>\n",
       "      <td>0.0</td>\n",
       "      <td>12.0</td>\n",
       "      <td>10.7</td>\n",
       "      <td>0.0</td>\n",
       "      <td>5.3</td>\n",
       "      <td>2.704702</td>\n",
       "      <td>7776.0</td>\n",
       "      <td>6.2</td>\n",
       "      <td>3.0</td>\n",
       "    </tr>\n",
       "    <tr>\n",
       "      <th>4</th>\n",
       "      <td>4</td>\n",
       "      <td>2022-03-27</td>\n",
       "      <td>0.0</td>\n",
       "      <td>13.0</td>\n",
       "      <td>13.1</td>\n",
       "      <td>0.0</td>\n",
       "      <td>8.6</td>\n",
       "      <td>2.704702</td>\n",
       "      <td>4903.0</td>\n",
       "      <td>6.2</td>\n",
       "      <td>3.0</td>\n",
       "    </tr>\n",
       "  </tbody>\n",
       "</table>\n",
       "</div>"
      ],
      "text/plain": [
       "   Unnamed: 0        date  day_of_week  weather_region_cd  \\\n",
       "0           0  2022-03-27          0.0                1.0   \n",
       "1           1  2022-03-27          0.0               10.0   \n",
       "2           2  2022-03-27          0.0               11.0   \n",
       "3           3  2022-03-27          0.0               12.0   \n",
       "4           4  2022-03-27          0.0               13.0   \n",
       "\n",
       "   maximum_feels_like_temperature  rainfall  sunshine_td  avg_ice_cream_price  \\\n",
       "0                            15.4       0.2         12.1             2.704702   \n",
       "1                            12.7       0.0         10.6             2.704702   \n",
       "2                            15.1       0.0         10.2             2.704702   \n",
       "3                            10.7       0.0          5.3             2.704702   \n",
       "4                            13.1       0.0          8.6             2.704702   \n",
       "\n",
       "   ice_cream_sold  cpih  month  \n",
       "0          1498.0   6.2    3.0  \n",
       "1          2285.0   6.2    3.0  \n",
       "2          5509.0   6.2    3.0  \n",
       "3          7776.0   6.2    3.0  \n",
       "4          4903.0   6.2    3.0  "
      ]
     },
     "execution_count": 3,
     "metadata": {},
     "output_type": "execute_result"
    }
   ],
   "source": [
    "df.head()"
   ]
  },
  {
   "cell_type": "markdown",
   "metadata": {},
   "source": [
    "# Creating Causal Graph"
   ]
  },
  {
   "cell_type": "code",
   "execution_count": 39,
   "metadata": {},
   "outputs": [],
   "source": [
    "# Define estimator inputs\n",
    "Y = df[\"ice_cream_sold\"]  # outcome of interest\n",
    "T = df[\"maximum_feels_like_temperature\"]  # intervention, or treatment\n",
    "X = df[[\"weather_region_cd\", \"day_of_week\"]]  # features\n",
    "W = df[[\"rainfall\", \"sunshine_td\", \"avg_ice_cream_price\", \"cpih\", \"month\"]]  # confounders"
   ]
  },
  {
   "cell_type": "markdown",
   "metadata": {},
   "source": [
    "# Identify Causal Effects"
   ]
  },
  {
   "cell_type": "code",
   "execution_count": 31,
   "metadata": {},
   "outputs": [],
   "source": [
    "# Train EconML model\n",
    "model = CausalForestDML(\n",
    "    model_y=GradientBoostingRegressor(), model_t=GradientBoostingRegressor()\n",
    ")\n",
    "\n",
    "model = model.fit(Y, T, X=X, inference=\"blb\")"
   ]
  },
  {
   "cell_type": "code",
   "execution_count": 32,
   "metadata": {},
   "outputs": [
    {
     "data": {
      "text/plain": [
       "<econml.dml.causal_forest.CausalForestDML at 0x16c218d90>"
      ]
     },
     "execution_count": 32,
     "metadata": {},
     "output_type": "execute_result"
    }
   ],
   "source": [
    "model"
   ]
  },
  {
   "cell_type": "markdown",
   "metadata": {},
   "source": [
    "# Estimate Causal Effects"
   ]
  },
  {
   "cell_type": "code",
   "execution_count": 38,
   "metadata": {},
   "outputs": [],
   "source": [
    "intrp = SingleTreeCateInterpreter(include_model_uncertainty=False, max_depth=2, min_samples_leaf=1)\n",
    "intrp.interpret(model, X)\n",
    "plt.figure(figsize=(25, 5))\n",
    "intrp.plot(feature_names=X.columns, fontsize=12)"
   ]
  },
  {
   "cell_type": "markdown",
   "metadata": {},
   "source": [
    "# Refutes"
   ]
  },
  {
   "cell_type": "code",
   "execution_count": 21,
   "metadata": {},
   "outputs": [
    {
     "ename": "AttributeError",
     "evalue": "'CausalForestDML' object has no attribute 'refute_estimate'",
     "output_type": "error",
     "traceback": [
      "\u001b[0;31m---------------------------------------------------------------------------\u001b[0m",
      "\u001b[0;31mAttributeError\u001b[0m                            Traceback (most recent call last)",
      "Cell \u001b[0;32mIn[21], line 1\u001b[0m\n\u001b[0;32m----> 1\u001b[0m refutel_random_common_cause \u001b[39m=\u001b[39m model\u001b[39m.\u001b[39;49mrefute_estimate(estimands,estimate, \u001b[39m\"\u001b[39m\u001b[39mrandom_common_cause\u001b[39m\u001b[39m\"\u001b[39m)\n\u001b[1;32m      3\u001b[0m refutel_placebo_treatment_refuter \u001b[39m=\u001b[39m model\u001b[39m.\u001b[39mrefute_estimate(estimands,estimate, \u001b[39m\"\u001b[39m\u001b[39mplacebo_treatment_refuter\u001b[39m\u001b[39m\"\u001b[39m)\n\u001b[1;32m      5\u001b[0m refutel_data_subset_refuter \u001b[39m=\u001b[39m model\u001b[39m.\u001b[39mrefute_estimate(estimands,estimate, \u001b[39m\"\u001b[39m\u001b[39mdata_subset_refuter\u001b[39m\u001b[39m\"\u001b[39m)\n",
      "\u001b[0;31mAttributeError\u001b[0m: 'CausalForestDML' object has no attribute 'refute_estimate'"
     ]
    }
   ],
   "source": [
    "refutel_random_common_cause = model.refute_estimate(estimands,estimate, \"random_common_cause\")\n",
    "\n",
    "refutel_placebo_treatment_refuter = model.refute_estimate(estimands,estimate, \"placebo_treatment_refuter\")\n",
    "\n",
    "refutel_data_subset_refuter = model.refute_estimate(estimands,estimate, \"data_subset_refuter\")\n",
    "\n",
    "res_unobserved_range = model.refute_estimate(estimands, estimate, method_name=\"add_unobserved_common_cause\",\n",
    "                                           confounders_effect_on_treatment=\"binary_flip\", confounders_effect_on_outcome=\"linear\",\n",
    "                                           effect_strength_on_treatment=[0.001, 0.005, 0.01, 0.02],\n",
    "                                           effect_strength_on_outcome=[0.001, 0.005, 0.01,0.02])\n"
   ]
  },
  {
   "cell_type": "code",
   "execution_count": 14,
   "metadata": {},
   "outputs": [
    {
     "name": "stdout",
     "output_type": "stream",
     "text": [
      "Refute: Add a random common cause\n",
      "Estimated effect:528.9312108028014\n",
      "New effect:526.5991101317206\n",
      "p value:0.4\n",
      "\n"
     ]
    }
   ],
   "source": [
    "print(refutel_random_common_cause)"
   ]
  },
  {
   "cell_type": "code",
   "execution_count": 15,
   "metadata": {},
   "outputs": [
    {
     "name": "stdout",
     "output_type": "stream",
     "text": [
      "Refute: Use a Placebo Treatment\n",
      "Estimated effect:528.9312108028014\n",
      "New effect:0.0\n",
      "p value:1.0\n",
      "\n"
     ]
    }
   ],
   "source": [
    "print(refutel_placebo_treatment_refuter)"
   ]
  },
  {
   "cell_type": "code",
   "execution_count": 16,
   "metadata": {},
   "outputs": [
    {
     "name": "stdout",
     "output_type": "stream",
     "text": [
      "Refute: Use a subset of data\n",
      "Estimated effect:528.9312108028014\n",
      "New effect:518.0634369834922\n",
      "p value:0.25\n",
      "\n"
     ]
    }
   ],
   "source": [
    "print(refutel_data_subset_refuter)"
   ]
  },
  {
   "cell_type": "code",
   "execution_count": 17,
   "metadata": {},
   "outputs": [
    {
     "name": "stdout",
     "output_type": "stream",
     "text": [
      "Refute: Add an Unobserved Common Cause\n",
      "Estimated effect:528.9312108028014\n",
      "New effect:(51.15071819432224, 488.6751314859039)\n",
      "\n"
     ]
    }
   ],
   "source": [
    "print(res_unobserved_range)"
   ]
  },
  {
   "cell_type": "markdown",
   "metadata": {},
   "source": [
    "# Final Estimates"
   ]
  },
  {
   "cell_type": "code",
   "execution_count": null,
   "metadata": {},
   "outputs": [],
   "source": []
  },
  {
   "cell_type": "code",
   "execution_count": null,
   "metadata": {},
   "outputs": [],
   "source": []
  }
 ],
 "metadata": {
  "kernelspec": {
   "display_name": "Python 3",
   "language": "python",
   "name": "python3"
  },
  "language_info": {
   "codemirror_mode": {
    "name": "ipython",
    "version": 3
   },
   "file_extension": ".py",
   "mimetype": "text/x-python",
   "name": "python",
   "nbconvert_exporter": "python",
   "pygments_lexer": "ipython3",
   "version": "3.11.4"
  },
  "orig_nbformat": 4
 },
 "nbformat": 4,
 "nbformat_minor": 2
}
