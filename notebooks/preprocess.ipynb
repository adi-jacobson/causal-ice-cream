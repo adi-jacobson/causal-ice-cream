{
 "cells": [
  {
   "cell_type": "markdown",
   "metadata": {},
   "source": [
    "# Preprocessing the Data"
   ]
  },
  {
   "cell_type": "markdown",
   "metadata": {},
   "source": [
    "# Imports"
   ]
  },
  {
   "cell_type": "markdown",
   "metadata": {},
   "source": [
    "## Modules and Packages"
   ]
  },
  {
   "cell_type": "code",
   "execution_count": 3,
   "metadata": {},
   "outputs": [],
   "source": [
    "import pandas as pd"
   ]
  },
  {
   "cell_type": "markdown",
   "metadata": {},
   "source": [
    "## Data"
   ]
  },
  {
   "cell_type": "code",
   "execution_count": 55,
   "metadata": {},
   "outputs": [],
   "source": [
    "ice_cream_data = pd.read_csv('../data/ice_cream_data.csv')\n",
    "cpih_data = pd.read_csv('../data/cpih_data.csv', header=7).rename({'Important notes':'date', 'Unnamed: 1':'cpih'}, axis=1)"
   ]
  },
  {
   "cell_type": "code",
   "execution_count": 56,
   "metadata": {},
   "outputs": [],
   "source": [
    "# Only keeping monthly cpih rows from 2020 - 2023\n",
    "# Converting weird format to datetime too\n",
    "\n",
    "cpih_data = cpih_data[cpih_data.date.str.contains('202\\w\\s\\w\\w\\w')]\n",
    "cpih_data['year_month'] = pd.to_datetime(cpih_data['date']).dt.to_period('M')\n",
    "\n",
    "# Creating the year month format in ice cream data for joining too\n",
    "\n",
    "ice_cream_data['year_month'] = pd.to_datetime(ice_cream_data['DATE']).dt.to_period('M')"
   ]
  },
  {
   "cell_type": "code",
   "execution_count": 101,
   "metadata": {},
   "outputs": [],
   "source": [
    "# Joining the data\n",
    "\n",
    "df = ice_cream_data.merge(cpih_data[['cpih', 'year_month']], how='inner', on='year_month').drop('year_month', axis=1).rename(columns=str.lower)"
   ]
  },
  {
   "cell_type": "code",
   "execution_count": 102,
   "metadata": {},
   "outputs": [],
   "source": [
    "# Checking for nulls\n",
    "\n",
    "if df.isna().any().any():\n",
    "    print('Nulls!')"
   ]
  },
  {
   "cell_type": "markdown",
   "metadata": {},
   "source": [
    "# Feature Engineering"
   ]
  },
  {
   "cell_type": "code",
   "execution_count": 103,
   "metadata": {},
   "outputs": [
    {
     "data": {
      "text/html": [
       "<div>\n",
       "<style scoped>\n",
       "    .dataframe tbody tr th:only-of-type {\n",
       "        vertical-align: middle;\n",
       "    }\n",
       "\n",
       "    .dataframe tbody tr th {\n",
       "        vertical-align: top;\n",
       "    }\n",
       "\n",
       "    .dataframe thead th {\n",
       "        text-align: right;\n",
       "    }\n",
       "</style>\n",
       "<table border=\"1\" class=\"dataframe\">\n",
       "  <thead>\n",
       "    <tr style=\"text-align: right;\">\n",
       "      <th></th>\n",
       "      <th>date</th>\n",
       "      <th>day_of_week</th>\n",
       "      <th>weather_region_cd</th>\n",
       "      <th>maximum_feels_like_temperature</th>\n",
       "      <th>rainfall</th>\n",
       "      <th>sunshine_td</th>\n",
       "      <th>avg_ice_cream_price</th>\n",
       "      <th>ice_cream_sold</th>\n",
       "      <th>cpih</th>\n",
       "    </tr>\n",
       "  </thead>\n",
       "  <tbody>\n",
       "    <tr>\n",
       "      <th>0</th>\n",
       "      <td>2022-03-27</td>\n",
       "      <td>0</td>\n",
       "      <td>1</td>\n",
       "      <td>15.4</td>\n",
       "      <td>0.2</td>\n",
       "      <td>12.1</td>\n",
       "      <td>2.704702</td>\n",
       "      <td>1498.0</td>\n",
       "      <td>6.2</td>\n",
       "    </tr>\n",
       "    <tr>\n",
       "      <th>1</th>\n",
       "      <td>2022-03-27</td>\n",
       "      <td>0</td>\n",
       "      <td>10</td>\n",
       "      <td>12.7</td>\n",
       "      <td>0.0</td>\n",
       "      <td>10.6</td>\n",
       "      <td>2.704702</td>\n",
       "      <td>2285.0</td>\n",
       "      <td>6.2</td>\n",
       "    </tr>\n",
       "    <tr>\n",
       "      <th>2</th>\n",
       "      <td>2022-03-27</td>\n",
       "      <td>0</td>\n",
       "      <td>11</td>\n",
       "      <td>15.1</td>\n",
       "      <td>0.0</td>\n",
       "      <td>10.2</td>\n",
       "      <td>2.704702</td>\n",
       "      <td>5509.0</td>\n",
       "      <td>6.2</td>\n",
       "    </tr>\n",
       "    <tr>\n",
       "      <th>3</th>\n",
       "      <td>2022-03-27</td>\n",
       "      <td>0</td>\n",
       "      <td>12</td>\n",
       "      <td>10.7</td>\n",
       "      <td>0.0</td>\n",
       "      <td>5.3</td>\n",
       "      <td>2.704702</td>\n",
       "      <td>7776.0</td>\n",
       "      <td>6.2</td>\n",
       "    </tr>\n",
       "    <tr>\n",
       "      <th>4</th>\n",
       "      <td>2022-03-27</td>\n",
       "      <td>0</td>\n",
       "      <td>13</td>\n",
       "      <td>13.1</td>\n",
       "      <td>0.0</td>\n",
       "      <td>8.6</td>\n",
       "      <td>2.704702</td>\n",
       "      <td>4903.0</td>\n",
       "      <td>6.2</td>\n",
       "    </tr>\n",
       "  </tbody>\n",
       "</table>\n",
       "</div>"
      ],
      "text/plain": [
       "         date  day_of_week  weather_region_cd  maximum_feels_like_temperature  \\\n",
       "0  2022-03-27            0                  1                            15.4   \n",
       "1  2022-03-27            0                 10                            12.7   \n",
       "2  2022-03-27            0                 11                            15.1   \n",
       "3  2022-03-27            0                 12                            10.7   \n",
       "4  2022-03-27            0                 13                            13.1   \n",
       "\n",
       "   rainfall  sunshine_td  avg_ice_cream_price  ice_cream_sold  cpih  \n",
       "0       0.2         12.1             2.704702          1498.0   6.2  \n",
       "1       0.0         10.6             2.704702          2285.0   6.2  \n",
       "2       0.0         10.2             2.704702          5509.0   6.2  \n",
       "3       0.0          5.3             2.704702          7776.0   6.2  \n",
       "4       0.0          8.6             2.704702          4903.0   6.2  "
      ]
     },
     "execution_count": 103,
     "metadata": {},
     "output_type": "execute_result"
    }
   ],
   "source": [
    "df.head()"
   ]
  },
  {
   "cell_type": "code",
   "execution_count": 104,
   "metadata": {},
   "outputs": [],
   "source": [
    "# Finding and encoding month of year\n",
    "\n",
    "df['month'] = pd.to_datetime(df['date']).dt.month"
   ]
  },
  {
   "cell_type": "code",
   "execution_count": 105,
   "metadata": {},
   "outputs": [],
   "source": [
    "# Ensuring all the columns (bar date) are floats\n",
    "\n",
    "float_cols = list(df.columns)\n",
    "float_cols.remove('date')\n",
    "\n",
    "df[float_cols] = df[float_cols].astype('float')"
   ]
  },
  {
   "cell_type": "code",
   "execution_count": 107,
   "metadata": {},
   "outputs": [],
   "source": [
    "# Checking for nulls\n",
    "\n",
    "if df.isna().any().any():\n",
    "    print('Nulls!')"
   ]
  },
  {
   "cell_type": "markdown",
   "metadata": {},
   "source": [
    "# Exporting the csv of the data"
   ]
  },
  {
   "cell_type": "code",
   "execution_count": 108,
   "metadata": {},
   "outputs": [],
   "source": [
    "df.to_csv('../data/causal_df.csv')"
   ]
  }
 ],
 "metadata": {
  "kernelspec": {
   "display_name": "Python 3",
   "language": "python",
   "name": "python3"
  },
  "language_info": {
   "codemirror_mode": {
    "name": "ipython",
    "version": 3
   },
   "file_extension": ".py",
   "mimetype": "text/x-python",
   "name": "python",
   "nbconvert_exporter": "python",
   "pygments_lexer": "ipython3",
   "version": "3.11.3"
  },
  "orig_nbformat": 4
 },
 "nbformat": 4,
 "nbformat_minor": 2
}
